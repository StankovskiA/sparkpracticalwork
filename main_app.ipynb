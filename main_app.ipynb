{
 "cells": [
  {
   "cell_type": "code",
   "execution_count": 1,
   "id": "39732ee5-3301-444b-aa99-f8b454754fbb",
   "metadata": {},
   "outputs": [
    {
     "name": "stderr",
     "output_type": "stream",
     "text": [
      "24/01/10 13:06:54 WARN Utils: Your hostname, student-VirtualBox resolves to a loopback address: 127.0.1.1; using 10.0.2.15 instead (on interface enp0s3)\n",
      "24/01/10 13:06:54 WARN Utils: Set SPARK_LOCAL_IP if you need to bind to another address\n",
      "Setting default log level to \"WARN\".\n",
      "To adjust logging level use sc.setLogLevel(newLevel). For SparkR, use setLogLevel(newLevel).\n",
      "24/01/10 13:06:57 WARN NativeCodeLoader: Unable to load native-hadoop library for your platform... using builtin-java classes where applicable\n",
      "                                                                                \r"
     ]
    },
    {
     "name": "stdout",
     "output_type": "stream",
     "text": [
      "+----+-----+----------+---------+-------+----------+----------+-------------+---------+-------+--------------+--------+--------+------+----+--------+-------+---------+----------------+\n",
      "|Year|Month|DayofMonth|DayOfWeek|DepTime|CRSDepTime|CRSArrTime|UniqueCarrier|FlightNum|TailNum|CRSElapsedTime|ArrDelay|DepDelay|Origin|Dest|Distance|TaxiOut|Cancelled|CancellationCode|\n",
      "+----+-----+----------+---------+-------+----------+----------+-------------+---------+-------+--------------+--------+--------+------+----+--------+-------+---------+----------------+\n",
      "|1987|   10|        14|        3|    741|       730|       849|           PS|     1451|     NA|            79|      23|      11|   SAN| SFO|     447|     NA|        0|              NA|\n",
      "|1987|   10|        15|        4|    729|       730|       849|           PS|     1451|     NA|            79|      14|      -1|   SAN| SFO|     447|     NA|        0|              NA|\n",
      "|1987|   10|        17|        6|    741|       730|       849|           PS|     1451|     NA|            79|      29|      11|   SAN| SFO|     447|     NA|        0|              NA|\n",
      "|1987|   10|        18|        7|    729|       730|       849|           PS|     1451|     NA|            79|      -2|      -1|   SAN| SFO|     447|     NA|        0|              NA|\n",
      "|1987|   10|        19|        1|    749|       730|       849|           PS|     1451|     NA|            79|      33|      19|   SAN| SFO|     447|     NA|        0|              NA|\n",
      "|1987|   10|        21|        3|    728|       730|       849|           PS|     1451|     NA|            79|      -1|      -2|   SAN| SFO|     447|     NA|        0|              NA|\n",
      "|1987|   10|        22|        4|    728|       730|       849|           PS|     1451|     NA|            79|       3|      -2|   SAN| SFO|     447|     NA|        0|              NA|\n",
      "|1987|   10|        23|        5|    731|       730|       849|           PS|     1451|     NA|            79|      13|       1|   SAN| SFO|     447|     NA|        0|              NA|\n",
      "|1987|   10|        24|        6|    744|       730|       849|           PS|     1451|     NA|            79|      19|      14|   SAN| SFO|     447|     NA|        0|              NA|\n",
      "|1987|   10|        25|        7|    729|       730|       849|           PS|     1451|     NA|            79|       2|      -1|   SAN| SFO|     447|     NA|        0|              NA|\n",
      "|1987|   10|        26|        1|    735|       730|       849|           PS|     1451|     NA|            79|      15|       5|   SAN| SFO|     447|     NA|        0|              NA|\n",
      "|1987|   10|        28|        3|    741|       725|       855|           PS|     1451|     NA|            90|      24|      16|   SAN| SFO|     447|     NA|        0|              NA|\n",
      "|1987|   10|        29|        4|    742|       725|       855|           PS|     1451|     NA|            90|      11|      17|   SAN| SFO|     447|     NA|        0|              NA|\n",
      "|1987|   10|        31|        6|    726|       725|       855|           PS|     1451|     NA|            90|      -7|       1|   SAN| SFO|     447|     NA|        0|              NA|\n",
      "|1987|   10|         1|        4|    936|       915|      1001|           PS|     1451|     NA|            46|      34|      21|   SFO| RNO|     192|     NA|        0|              NA|\n",
      "|1987|   10|         2|        5|    918|       915|      1001|           PS|     1451|     NA|            46|      16|       3|   SFO| RNO|     192|     NA|        0|              NA|\n",
      "|1987|   10|         3|        6|    928|       915|      1001|           PS|     1451|     NA|            46|      36|      13|   SFO| RNO|     192|     NA|        0|              NA|\n",
      "|1987|   10|         4|        7|    914|       915|      1001|           PS|     1451|     NA|            46|       2|      -1|   SFO| RNO|     192|     NA|        0|              NA|\n",
      "|1987|   10|         5|        1|   1042|       915|      1001|           PS|     1451|     NA|            46|      88|      87|   SFO| RNO|     192|     NA|        0|              NA|\n",
      "|1987|   10|         6|        2|    934|       915|      1001|           PS|     1451|     NA|            46|      23|      19|   SFO| RNO|     192|     NA|        0|              NA|\n",
      "+----+-----+----------+---------+-------+----------+----------+-------------+---------+-------+--------------+--------+--------+------+----+--------+-------+---------+----------------+\n",
      "only showing top 20 rows\n",
      "\n"
     ]
    }
   ],
   "source": [
    "from pyspark.sql import SparkSession\n",
    " \n",
    "# Create a Spark session\n",
    "spark = SparkSession.builder.appName(\"DataLoadingExample\").getOrCreate()\n",
    " \n",
    "# Get the input data location from the command line or configuration\n",
    "input_data_location = \"data/1987.csv\"\n",
    " \n",
    "# Load the data into a PySpark DataFrame\n",
    "df = spark.read.csv(input_data_location, header=True, inferSchema=True)\n",
    "\n",
    "# List of columns to be removed\n",
    "columns_to_remove = ['ArrTime', 'ActualElapsedTime', 'AirTime', 'TaxiIn', 'Diverted',\n",
    "                     'CarrierDelay', 'WeatherDelay', 'NASDelay', 'SecurityDelay', 'LateAircraftDelay']\n",
    " \n",
    "# Select columns that are NOT in the 'columns_to_remove' list\n",
    "df = df.select([col for col in df.columns if col not in columns_to_remove])\n",
    " \n",
    "# Show the resulting DataFrame after removing specified columns\n",
    "df.show()\n",
    "\n"
   ]
  },
  {
   "cell_type": "code",
   "execution_count": 2,
   "id": "c09ca93d-7f6d-48d9-87a1-d5efb2979c63",
   "metadata": {},
   "outputs": [
    {
     "name": "stderr",
     "output_type": "stream",
     "text": [
      "                                                                                \r"
     ]
    },
    {
     "name": "stdout",
     "output_type": "stream",
     "text": [
      "Column 'Year' has only one unique value\n"
     ]
    },
    {
     "name": "stderr",
     "output_type": "stream",
     "text": [
      "                                                                                \r"
     ]
    },
    {
     "name": "stdout",
     "output_type": "stream",
     "text": [
      "Column 'TailNum' has only one unique value\n"
     ]
    },
    {
     "name": "stderr",
     "output_type": "stream",
     "text": [
      "                                                                                \r"
     ]
    },
    {
     "name": "stdout",
     "output_type": "stream",
     "text": [
      "Column 'TaxiOut' has only one unique value\n"
     ]
    },
    {
     "name": "stderr",
     "output_type": "stream",
     "text": [
      "                                                                                \r"
     ]
    },
    {
     "name": "stdout",
     "output_type": "stream",
     "text": [
      "Column 'CancellationCode' has only one unique value\n",
      "Numerical Columns: ['Month', 'DayofMonth', 'DayOfWeek', 'DepTime', 'CRSDepTime', 'CRSArrTime', 'FlightNum', 'CRSElapsedTime', 'DepDelay', 'Distance', 'Cancelled']\n",
      "Categorical Columns: ['UniqueCarrier', 'Dest', 'Origin']\n"
     ]
    },
    {
     "name": "stderr",
     "output_type": "stream",
     "text": [
      "                                                                                \r"
     ]
    },
    {
     "name": "stdout",
     "output_type": "stream",
     "text": [
      "+-----+----------+---------+-------+----------+----------+---------+--------------+--------+--------+--------+---------+---------------------+------------+--------------+\n",
      "|Month|DayofMonth|DayOfWeek|DepTime|CRSDepTime|CRSArrTime|FlightNum|CRSElapsedTime|ArrDelay|DepDelay|Distance|Cancelled|UniqueCarrier_encoded|Dest_encoded|Origin_encoded|\n",
      "+-----+----------+---------+-------+----------+----------+---------+--------------+--------+--------+--------+---------+---------------------+------------+--------------+\n",
      "|   10|        14|        3|    741|       730|       849|     1451|            79|      23|      11|     447|        0|                 11.0|         5.0|          28.0|\n",
      "|   10|        15|        4|    729|       730|       849|     1451|            79|      14|      -1|     447|        0|                 11.0|         5.0|          28.0|\n",
      "|   10|        17|        6|    741|       730|       849|     1451|            79|      29|      11|     447|        0|                 11.0|         5.0|          28.0|\n",
      "|   10|        18|        7|    729|       730|       849|     1451|            79|      -2|      -1|     447|        0|                 11.0|         5.0|          28.0|\n",
      "|   10|        19|        1|    749|       730|       849|     1451|            79|      33|      19|     447|        0|                 11.0|         5.0|          28.0|\n",
      "|   10|        21|        3|    728|       730|       849|     1451|            79|      -1|      -2|     447|        0|                 11.0|         5.0|          28.0|\n",
      "|   10|        22|        4|    728|       730|       849|     1451|            79|       3|      -2|     447|        0|                 11.0|         5.0|          28.0|\n",
      "|   10|        23|        5|    731|       730|       849|     1451|            79|      13|       1|     447|        0|                 11.0|         5.0|          28.0|\n",
      "|   10|        24|        6|    744|       730|       849|     1451|            79|      19|      14|     447|        0|                 11.0|         5.0|          28.0|\n",
      "|   10|        25|        7|    729|       730|       849|     1451|            79|       2|      -1|     447|        0|                 11.0|         5.0|          28.0|\n",
      "|   10|        26|        1|    735|       730|       849|     1451|            79|      15|       5|     447|        0|                 11.0|         5.0|          28.0|\n",
      "|   10|        28|        3|    741|       725|       855|     1451|            90|      24|      16|     447|        0|                 11.0|         5.0|          28.0|\n",
      "|   10|        29|        4|    742|       725|       855|     1451|            90|      11|      17|     447|        0|                 11.0|         5.0|          28.0|\n",
      "|   10|        31|        6|    726|       725|       855|     1451|            90|      -7|       1|     447|        0|                 11.0|         5.0|          28.0|\n",
      "|   10|         1|        4|    936|       915|      1001|     1451|            46|      34|      21|     192|        0|                 11.0|        62.0|           5.0|\n",
      "|   10|         2|        5|    918|       915|      1001|     1451|            46|      16|       3|     192|        0|                 11.0|        62.0|           5.0|\n",
      "|   10|         3|        6|    928|       915|      1001|     1451|            46|      36|      13|     192|        0|                 11.0|        62.0|           5.0|\n",
      "|   10|         4|        7|    914|       915|      1001|     1451|            46|       2|      -1|     192|        0|                 11.0|        62.0|           5.0|\n",
      "|   10|         5|        1|   1042|       915|      1001|     1451|            46|      88|      87|     192|        0|                 11.0|        62.0|           5.0|\n",
      "|   10|         6|        2|    934|       915|      1001|     1451|            46|      23|      19|     192|        0|                 11.0|        62.0|           5.0|\n",
      "+-----+----------+---------+-------+----------+----------+---------+--------------+--------+--------+--------+---------+---------------------+------------+--------------+\n",
      "only showing top 20 rows\n",
      "\n"
     ]
    }
   ],
   "source": [
    "df = df.na.replace('NA', None)\n",
    "\n",
    "# Print number of unique values in a column\n",
    "for col in df.columns:\n",
    "    if df.select(col).distinct().count() == 1:\n",
    "        print(\"Column '{}' has only one unique value\".format(col))\n",
    "        # Remove columns with only one unique value\n",
    "        df = df.drop(col)\n",
    "\n",
    "# Identify numerical and categorical columns\n",
    "categorical_cols = ['UniqueCarrier',  'Dest', 'Origin']\n",
    "numerical_cols = [x for x in df.columns if x not in categorical_cols]\n",
    "\n",
    "target_var = 'ArrDelay'\n",
    "\n",
    "# Remove the target variable 'ArrDelay' from the lists\n",
    "if target_var in numerical_cols:\n",
    "    numerical_cols.remove(target_var)\n",
    "if target_var in categorical_cols:\n",
    "    categorical_cols.remove(target_var)\n",
    "\n",
    "# Print the lists\n",
    "print(\"Numerical Columns:\", numerical_cols)\n",
    "print(\"Categorical Columns:\", categorical_cols)\n",
    "\n",
    "from pyspark.ml.feature import StringIndexer\n",
    "from pyspark.sql import functions as F\n",
    "from pyspark.ml import Pipeline\n",
    "\n",
    "\n",
    "# Label encode categorical columns\n",
    "indexers = [StringIndexer(inputCol=col, outputCol=f\"{col}_encoded\") for col in categorical_cols]\n",
    "pipeline = Pipeline(stages=indexers)\n",
    "df_encoded = pipeline.fit(df).transform(df)\n",
    "\n",
    "# Drop the original categorical columns\n",
    "df_encoded = df_encoded.drop(*categorical_cols)\n",
    "\n",
    "# Show the DataFrame with label-encoded categorical columns\n",
    "df_encoded.show()"
   ]
  },
  {
   "cell_type": "code",
   "execution_count": 8,
   "id": "4eb4e89d-90c6-47d6-a692-ebe7c82642fc",
   "metadata": {},
   "outputs": [
    {
     "name": "stdout",
     "output_type": "stream",
     "text": [
      "+-----+----------+---------+-------+----------+----------+---------+-------+--------------+--------+--------+--------+-------+---------+----------------+---------------------+------------+--------------+\n",
      "|Month|DayofMonth|DayOfWeek|DepTime|CRSDepTime|CRSArrTime|FlightNum|TailNum|CRSElapsedTime|ArrDelay|DepDelay|Distance|TaxiOut|Cancelled|CancellationCode|UniqueCarrier_encoded|Dest_encoded|Origin_encoded|\n",
      "+-----+----------+---------+-------+----------+----------+---------+-------+--------------+--------+--------+--------+-------+---------+----------------+---------------------+------------+--------------+\n",
      "|   10|        14|        3|    741|       730|       849|     1451|   NULL|            79|      23|      11|     447|   NULL|        0|            NULL|                 11.0|         5.0|          28.0|\n",
      "|   10|        15|        4|    729|       730|       849|     1451|   NULL|            79|      14|      -1|     447|   NULL|        0|            NULL|                 11.0|         5.0|          28.0|\n",
      "|   10|        17|        6|    741|       730|       849|     1451|   NULL|            79|      29|      11|     447|   NULL|        0|            NULL|                 11.0|         5.0|          28.0|\n",
      "|   10|        18|        7|    729|       730|       849|     1451|   NULL|            79|      -2|      -1|     447|   NULL|        0|            NULL|                 11.0|         5.0|          28.0|\n",
      "|   10|        19|        1|    749|       730|       849|     1451|   NULL|            79|      33|      19|     447|   NULL|        0|            NULL|                 11.0|         5.0|          28.0|\n",
      "|   10|        21|        3|    728|       730|       849|     1451|   NULL|            79|      -1|      -2|     447|   NULL|        0|            NULL|                 11.0|         5.0|          28.0|\n",
      "|   10|        22|        4|    728|       730|       849|     1451|   NULL|            79|       3|      -2|     447|   NULL|        0|            NULL|                 11.0|         5.0|          28.0|\n",
      "|   10|        23|        5|    731|       730|       849|     1451|   NULL|            79|      13|       1|     447|   NULL|        0|            NULL|                 11.0|         5.0|          28.0|\n",
      "|   10|        24|        6|    744|       730|       849|     1451|   NULL|            79|      19|      14|     447|   NULL|        0|            NULL|                 11.0|         5.0|          28.0|\n",
      "|   10|        25|        7|    729|       730|       849|     1451|   NULL|            79|       2|      -1|     447|   NULL|        0|            NULL|                 11.0|         5.0|          28.0|\n",
      "|   10|        26|        1|    735|       730|       849|     1451|   NULL|            79|      15|       5|     447|   NULL|        0|            NULL|                 11.0|         5.0|          28.0|\n",
      "|   10|        28|        3|    741|       725|       855|     1451|   NULL|            90|      24|      16|     447|   NULL|        0|            NULL|                 11.0|         5.0|          28.0|\n",
      "|   10|        29|        4|    742|       725|       855|     1451|   NULL|            90|      11|      17|     447|   NULL|        0|            NULL|                 11.0|         5.0|          28.0|\n",
      "|   10|        31|        6|    726|       725|       855|     1451|   NULL|            90|      -7|       1|     447|   NULL|        0|            NULL|                 11.0|         5.0|          28.0|\n",
      "|   10|         1|        4|    936|       915|      1001|     1451|   NULL|            46|      34|      21|     192|   NULL|        0|            NULL|                 11.0|        62.0|           5.0|\n",
      "|   10|         2|        5|    918|       915|      1001|     1451|   NULL|            46|      16|       3|     192|   NULL|        0|            NULL|                 11.0|        62.0|           5.0|\n",
      "|   10|         3|        6|    928|       915|      1001|     1451|   NULL|            46|      36|      13|     192|   NULL|        0|            NULL|                 11.0|        62.0|           5.0|\n",
      "|   10|         4|        7|    914|       915|      1001|     1451|   NULL|            46|       2|      -1|     192|   NULL|        0|            NULL|                 11.0|        62.0|           5.0|\n",
      "|   10|         5|        1|   1042|       915|      1001|     1451|   NULL|            46|      88|      87|     192|   NULL|        0|            NULL|                 11.0|        62.0|           5.0|\n",
      "|   10|         6|        2|    934|       915|      1001|     1451|   NULL|            46|      23|      19|     192|   NULL|        0|            NULL|                 11.0|        62.0|           5.0|\n",
      "+-----+----------+---------+-------+----------+----------+---------+-------+--------------+--------+--------+--------+-------+---------+----------------+---------------------+------------+--------------+\n",
      "only showing top 20 rows\n",
      "\n"
     ]
    },
    {
     "name": "stderr",
     "output_type": "stream",
     "text": [
      "                                                                                \r"
     ]
    },
    {
     "name": "stdout",
     "output_type": "stream",
     "text": [
      "\n",
      "Percentage of null values for each column:\n",
      "Month: 0.00%\n",
      "DayofMonth: 0.00%\n",
      "DayOfWeek: 0.00%\n",
      "DepTime: 0.00%\n",
      "CRSDepTime: 0.00%\n",
      "CRSArrTime: 0.00%\n",
      "UniqueCarrier: 0.00%\n",
      "FlightNum: 0.00%\n",
      "TailNum: 0.00%\n",
      "CRSElapsedTime: 0.00%\n",
      "ArrDelay: 0.00%\n",
      "DepDelay: 0.00%\n",
      "Origin: 0.00%\n",
      "Dest: 0.00%\n",
      "Distance: 0.00%\n",
      "TaxiOut: 0.00%\n",
      "Cancelled: 0.00%\n",
      "CancellationCode: 0.00%\n"
     ]
    }
   ],
   "source": []
  },
  {
   "cell_type": "code",
   "execution_count": 3,
   "id": "b205f3d7-d50b-4802-8888-7bcf3248b898",
   "metadata": {},
   "outputs": [],
   "source": [
    "# Close context\n",
    "spark.stop()"
   ]
  },
  {
   "cell_type": "code",
   "execution_count": null,
   "id": "b215d724-0905-48d7-9dce-f5f1114fa0fb",
   "metadata": {},
   "outputs": [],
   "source": []
  }
 ],
 "metadata": {
  "kernelspec": {
   "display_name": "Python 3 (ipykernel)",
   "language": "python",
   "name": "python3"
  },
  "language_info": {
   "codemirror_mode": {
    "name": "ipython",
    "version": 3
   },
   "file_extension": ".py",
   "mimetype": "text/x-python",
   "name": "python",
   "nbconvert_exporter": "python",
   "pygments_lexer": "ipython3",
   "version": "3.10.12"
  }
 },
 "nbformat": 4,
 "nbformat_minor": 5
}
